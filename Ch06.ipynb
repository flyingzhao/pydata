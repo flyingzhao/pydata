{
 "cells": [
  {
   "cell_type": "markdown",
   "metadata": {},
   "source": [
    "# 数据加载、存储与文件格式"
   ]
  },
  {
   "cell_type": "markdown",
   "metadata": {},
   "source": [
    "读写文本格式数据\n",
    "-----------"
   ]
  },
  {
   "cell_type": "code",
   "execution_count": 1,
   "metadata": {
    "collapsed": true
   },
   "outputs": [],
   "source": [
    "import pandas as pd"
   ]
  },
  {
   "cell_type": "code",
   "execution_count": null,
   "metadata": {
    "collapsed": true
   },
   "outputs": [],
   "source": []
  },
  {
   "cell_type": "code",
   "execution_count": 1,
   "metadata": {
    "collapsed": false
   },
   "outputs": [
    {
     "name": "stdout",
     "output_type": "stream",
     "text": [
      "a,b,c,d,message\r\n",
      "1,2,3,4,hello\r\n",
      "5,6,7,8,world\r\n",
      "9,10,11,12,foo"
     ]
    }
   ],
   "source": [
    "!cat ch06/ex1.csv"
   ]
  },
  {
   "cell_type": "code",
   "execution_count": 4,
   "metadata": {
    "collapsed": false
   },
   "outputs": [
    {
     "data": {
      "text/html": [
       "<div>\n",
       "<table border=\"1\" class=\"dataframe\">\n",
       "  <thead>\n",
       "    <tr style=\"text-align: right;\">\n",
       "      <th></th>\n",
       "      <th>a</th>\n",
       "      <th>b</th>\n",
       "      <th>c</th>\n",
       "      <th>d</th>\n",
       "      <th>message</th>\n",
       "    </tr>\n",
       "  </thead>\n",
       "  <tbody>\n",
       "    <tr>\n",
       "      <th>0</th>\n",
       "      <td>1</td>\n",
       "      <td>2</td>\n",
       "      <td>3</td>\n",
       "      <td>4</td>\n",
       "      <td>hello</td>\n",
       "    </tr>\n",
       "    <tr>\n",
       "      <th>1</th>\n",
       "      <td>5</td>\n",
       "      <td>6</td>\n",
       "      <td>7</td>\n",
       "      <td>8</td>\n",
       "      <td>world</td>\n",
       "    </tr>\n",
       "    <tr>\n",
       "      <th>2</th>\n",
       "      <td>9</td>\n",
       "      <td>10</td>\n",
       "      <td>11</td>\n",
       "      <td>12</td>\n",
       "      <td>foo</td>\n",
       "    </tr>\n",
       "  </tbody>\n",
       "</table>\n",
       "</div>"
      ],
      "text/plain": [
       "   a   b   c   d message\n",
       "0  1   2   3   4   hello\n",
       "1  5   6   7   8   world\n",
       "2  9  10  11  12     foo"
      ]
     },
     "execution_count": 4,
     "metadata": {},
     "output_type": "execute_result"
    }
   ],
   "source": [
    "\n",
    "df=pd.read_csv('ch06/ex1.csv')\n",
    "df"
   ]
  },
  {
   "cell_type": "code",
   "execution_count": 5,
   "metadata": {
    "collapsed": false
   },
   "outputs": [
    {
     "data": {
      "text/html": [
       "<div>\n",
       "<table border=\"1\" class=\"dataframe\">\n",
       "  <thead>\n",
       "    <tr style=\"text-align: right;\">\n",
       "      <th></th>\n",
       "      <th>a</th>\n",
       "      <th>b</th>\n",
       "      <th>c</th>\n",
       "      <th>d</th>\n",
       "      <th>message</th>\n",
       "    </tr>\n",
       "  </thead>\n",
       "  <tbody>\n",
       "    <tr>\n",
       "      <th>0</th>\n",
       "      <td>1</td>\n",
       "      <td>2</td>\n",
       "      <td>3</td>\n",
       "      <td>4</td>\n",
       "      <td>hello</td>\n",
       "    </tr>\n",
       "    <tr>\n",
       "      <th>1</th>\n",
       "      <td>5</td>\n",
       "      <td>6</td>\n",
       "      <td>7</td>\n",
       "      <td>8</td>\n",
       "      <td>world</td>\n",
       "    </tr>\n",
       "    <tr>\n",
       "      <th>2</th>\n",
       "      <td>9</td>\n",
       "      <td>10</td>\n",
       "      <td>11</td>\n",
       "      <td>12</td>\n",
       "      <td>foo</td>\n",
       "    </tr>\n",
       "  </tbody>\n",
       "</table>\n",
       "</div>"
      ],
      "text/plain": [
       "   a   b   c   d message\n",
       "0  1   2   3   4   hello\n",
       "1  5   6   7   8   world\n",
       "2  9  10  11  12     foo"
      ]
     },
     "execution_count": 5,
     "metadata": {},
     "output_type": "execute_result"
    }
   ],
   "source": [
    "pd.read_table('ch06/ex1.csv',sep=',')"
   ]
  },
  {
   "cell_type": "code",
   "execution_count": 6,
   "metadata": {
    "collapsed": false
   },
   "outputs": [
    {
     "name": "stdout",
     "output_type": "stream",
     "text": [
      "1,2,3,4,hello\r\n",
      "5,6,7,8,world\r\n",
      "9,10,11,12,foo"
     ]
    }
   ],
   "source": [
    "!cat ch06/ex2.csv"
   ]
  },
  {
   "cell_type": "code",
   "execution_count": 8,
   "metadata": {
    "collapsed": false
   },
   "outputs": [
    {
     "data": {
      "text/html": [
       "<div>\n",
       "<table border=\"1\" class=\"dataframe\">\n",
       "  <thead>\n",
       "    <tr style=\"text-align: right;\">\n",
       "      <th></th>\n",
       "      <th>0</th>\n",
       "      <th>1</th>\n",
       "      <th>2</th>\n",
       "      <th>3</th>\n",
       "      <th>4</th>\n",
       "    </tr>\n",
       "  </thead>\n",
       "  <tbody>\n",
       "    <tr>\n",
       "      <th>0</th>\n",
       "      <td>1</td>\n",
       "      <td>2</td>\n",
       "      <td>3</td>\n",
       "      <td>4</td>\n",
       "      <td>hello</td>\n",
       "    </tr>\n",
       "    <tr>\n",
       "      <th>1</th>\n",
       "      <td>5</td>\n",
       "      <td>6</td>\n",
       "      <td>7</td>\n",
       "      <td>8</td>\n",
       "      <td>world</td>\n",
       "    </tr>\n",
       "    <tr>\n",
       "      <th>2</th>\n",
       "      <td>9</td>\n",
       "      <td>10</td>\n",
       "      <td>11</td>\n",
       "      <td>12</td>\n",
       "      <td>foo</td>\n",
       "    </tr>\n",
       "  </tbody>\n",
       "</table>\n",
       "</div>"
      ],
      "text/plain": [
       "   0   1   2   3      4\n",
       "0  1   2   3   4  hello\n",
       "1  5   6   7   8  world\n",
       "2  9  10  11  12    foo"
      ]
     },
     "execution_count": 8,
     "metadata": {},
     "output_type": "execute_result"
    }
   ],
   "source": [
    "pd.read_csv('ch06/ex2.csv',header=None)"
   ]
  },
  {
   "cell_type": "code",
   "execution_count": 10,
   "metadata": {
    "collapsed": false
   },
   "outputs": [
    {
     "data": {
      "text/html": [
       "<div>\n",
       "<table border=\"1\" class=\"dataframe\">\n",
       "  <thead>\n",
       "    <tr style=\"text-align: right;\">\n",
       "      <th></th>\n",
       "      <th>a</th>\n",
       "      <th>b</th>\n",
       "      <th>c</th>\n",
       "      <th>d</th>\n",
       "      <th>message</th>\n",
       "    </tr>\n",
       "  </thead>\n",
       "  <tbody>\n",
       "    <tr>\n",
       "      <th>0</th>\n",
       "      <td>1</td>\n",
       "      <td>2</td>\n",
       "      <td>3</td>\n",
       "      <td>4</td>\n",
       "      <td>hello</td>\n",
       "    </tr>\n",
       "    <tr>\n",
       "      <th>1</th>\n",
       "      <td>5</td>\n",
       "      <td>6</td>\n",
       "      <td>7</td>\n",
       "      <td>8</td>\n",
       "      <td>world</td>\n",
       "    </tr>\n",
       "    <tr>\n",
       "      <th>2</th>\n",
       "      <td>9</td>\n",
       "      <td>10</td>\n",
       "      <td>11</td>\n",
       "      <td>12</td>\n",
       "      <td>foo</td>\n",
       "    </tr>\n",
       "  </tbody>\n",
       "</table>\n",
       "</div>"
      ],
      "text/plain": [
       "   a   b   c   d message\n",
       "0  1   2   3   4   hello\n",
       "1  5   6   7   8   world\n",
       "2  9  10  11  12     foo"
      ]
     },
     "execution_count": 10,
     "metadata": {},
     "output_type": "execute_result"
    }
   ],
   "source": [
    "pd.read_csv('ch06/ex2.csv',names=['a','b','c','d','message'])"
   ]
  },
  {
   "cell_type": "code",
   "execution_count": 4,
   "metadata": {
    "collapsed": false
   },
   "outputs": [
    {
     "data": {
      "text/html": [
       "<div>\n",
       "<table border=\"1\" class=\"dataframe\">\n",
       "  <thead>\n",
       "    <tr style=\"text-align: right;\">\n",
       "      <th></th>\n",
       "      <th>a</th>\n",
       "      <th>b</th>\n",
       "      <th>c</th>\n",
       "      <th>d</th>\n",
       "    </tr>\n",
       "    <tr>\n",
       "      <th>message</th>\n",
       "      <th></th>\n",
       "      <th></th>\n",
       "      <th></th>\n",
       "      <th></th>\n",
       "    </tr>\n",
       "  </thead>\n",
       "  <tbody>\n",
       "    <tr>\n",
       "      <th>hello</th>\n",
       "      <td>1</td>\n",
       "      <td>2</td>\n",
       "      <td>3</td>\n",
       "      <td>4</td>\n",
       "    </tr>\n",
       "    <tr>\n",
       "      <th>world</th>\n",
       "      <td>5</td>\n",
       "      <td>6</td>\n",
       "      <td>7</td>\n",
       "      <td>8</td>\n",
       "    </tr>\n",
       "    <tr>\n",
       "      <th>foo</th>\n",
       "      <td>9</td>\n",
       "      <td>10</td>\n",
       "      <td>11</td>\n",
       "      <td>12</td>\n",
       "    </tr>\n",
       "  </tbody>\n",
       "</table>\n",
       "</div>"
      ],
      "text/plain": [
       "         a   b   c   d\n",
       "message               \n",
       "hello    1   2   3   4\n",
       "world    5   6   7   8\n",
       "foo      9  10  11  12"
      ]
     },
     "execution_count": 4,
     "metadata": {},
     "output_type": "execute_result"
    }
   ],
   "source": [
    "pd.read_csv('ch06/ex2.csv',names=['a','b','c','d','message'],index_col='message')"
   ]
  },
  {
   "cell_type": "code",
   "execution_count": 6,
   "metadata": {
    "collapsed": false
   },
   "outputs": [
    {
     "name": "stdout",
     "output_type": "stream",
     "text": [
      "key1,key2,value1,value2\r\n",
      "one,a,1,2\r\n",
      "one,b,3,4\r\n",
      "one,c,5,6\r\n",
      "one,d,7,8\r\n",
      "two,a,9,10\r\n",
      "two,b,11,12\r\n",
      "two,c,13,14\r\n",
      "two,d,15,16\r\n"
     ]
    }
   ],
   "source": [
    "!cat ch06/csv_mindex.csv"
   ]
  },
  {
   "cell_type": "code",
   "execution_count": 9,
   "metadata": {
    "collapsed": false
   },
   "outputs": [
    {
     "data": {
      "text/html": [
       "<div>\n",
       "<table border=\"1\" class=\"dataframe\">\n",
       "  <thead>\n",
       "    <tr style=\"text-align: right;\">\n",
       "      <th></th>\n",
       "      <th></th>\n",
       "      <th>value1</th>\n",
       "      <th>value2</th>\n",
       "    </tr>\n",
       "    <tr>\n",
       "      <th>key1</th>\n",
       "      <th>key2</th>\n",
       "      <th></th>\n",
       "      <th></th>\n",
       "    </tr>\n",
       "  </thead>\n",
       "  <tbody>\n",
       "    <tr>\n",
       "      <th rowspan=\"4\" valign=\"top\">one</th>\n",
       "      <th>a</th>\n",
       "      <td>1</td>\n",
       "      <td>2</td>\n",
       "    </tr>\n",
       "    <tr>\n",
       "      <th>b</th>\n",
       "      <td>3</td>\n",
       "      <td>4</td>\n",
       "    </tr>\n",
       "    <tr>\n",
       "      <th>c</th>\n",
       "      <td>5</td>\n",
       "      <td>6</td>\n",
       "    </tr>\n",
       "    <tr>\n",
       "      <th>d</th>\n",
       "      <td>7</td>\n",
       "      <td>8</td>\n",
       "    </tr>\n",
       "    <tr>\n",
       "      <th rowspan=\"4\" valign=\"top\">two</th>\n",
       "      <th>a</th>\n",
       "      <td>9</td>\n",
       "      <td>10</td>\n",
       "    </tr>\n",
       "    <tr>\n",
       "      <th>b</th>\n",
       "      <td>11</td>\n",
       "      <td>12</td>\n",
       "    </tr>\n",
       "    <tr>\n",
       "      <th>c</th>\n",
       "      <td>13</td>\n",
       "      <td>14</td>\n",
       "    </tr>\n",
       "    <tr>\n",
       "      <th>d</th>\n",
       "      <td>15</td>\n",
       "      <td>16</td>\n",
       "    </tr>\n",
       "  </tbody>\n",
       "</table>\n",
       "</div>"
      ],
      "text/plain": [
       "           value1  value2\n",
       "key1 key2                \n",
       "one  a          1       2\n",
       "     b          3       4\n",
       "     c          5       6\n",
       "     d          7       8\n",
       "two  a          9      10\n",
       "     b         11      12\n",
       "     c         13      14\n",
       "     d         15      16"
      ]
     },
     "execution_count": 9,
     "metadata": {},
     "output_type": "execute_result"
    }
   ],
   "source": [
    "parsed=pd.read_csv('ch06/csv_mindex.csv',index_col=['key1','key2'])\n",
    "parsed"
   ]
  },
  {
   "cell_type": "code",
   "execution_count": 11,
   "metadata": {
    "collapsed": false
   },
   "outputs": [
    {
     "data": {
      "text/plain": [
       "['            A         B         C\\n',\n",
       " 'aaa -0.264438 -1.026059 -0.619500\\n',\n",
       " 'bbb  0.927272  0.302904 -0.032399\\n',\n",
       " 'ccc -0.264273 -0.386314 -0.217601\\n',\n",
       " 'ddd -0.871858 -0.348382  1.100491\\n']"
      ]
     },
     "execution_count": 11,
     "metadata": {},
     "output_type": "execute_result"
    }
   ],
   "source": [
    "list(open('ch06/ex3.txt'))"
   ]
  },
  {
   "cell_type": "code",
   "execution_count": 23,
   "metadata": {
    "collapsed": false
   },
   "outputs": [],
   "source": [
    "result=pd.read_table('ch06/ex3.txt',sep='\\s+')"
   ]
  },
  {
   "cell_type": "code",
   "execution_count": 24,
   "metadata": {
    "collapsed": false
   },
   "outputs": [
    {
     "data": {
      "text/html": [
       "<div>\n",
       "<table border=\"1\" class=\"dataframe\">\n",
       "  <thead>\n",
       "    <tr style=\"text-align: right;\">\n",
       "      <th></th>\n",
       "      <th>A</th>\n",
       "      <th>B</th>\n",
       "      <th>C</th>\n",
       "    </tr>\n",
       "  </thead>\n",
       "  <tbody>\n",
       "    <tr>\n",
       "      <th>aaa</th>\n",
       "      <td>-0.264438</td>\n",
       "      <td>-1.026059</td>\n",
       "      <td>-0.619500</td>\n",
       "    </tr>\n",
       "    <tr>\n",
       "      <th>bbb</th>\n",
       "      <td>0.927272</td>\n",
       "      <td>0.302904</td>\n",
       "      <td>-0.032399</td>\n",
       "    </tr>\n",
       "    <tr>\n",
       "      <th>ccc</th>\n",
       "      <td>-0.264273</td>\n",
       "      <td>-0.386314</td>\n",
       "      <td>-0.217601</td>\n",
       "    </tr>\n",
       "    <tr>\n",
       "      <th>ddd</th>\n",
       "      <td>-0.871858</td>\n",
       "      <td>-0.348382</td>\n",
       "      <td>1.100491</td>\n",
       "    </tr>\n",
       "  </tbody>\n",
       "</table>\n",
       "</div>"
      ],
      "text/plain": [
       "            A         B         C\n",
       "aaa -0.264438 -1.026059 -0.619500\n",
       "bbb  0.927272  0.302904 -0.032399\n",
       "ccc -0.264273 -0.386314 -0.217601\n",
       "ddd -0.871858 -0.348382  1.100491"
      ]
     },
     "execution_count": 24,
     "metadata": {},
     "output_type": "execute_result"
    }
   ],
   "source": [
    "result"
   ]
  },
  {
   "cell_type": "code",
   "execution_count": 26,
   "metadata": {
    "collapsed": false
   },
   "outputs": [
    {
     "name": "stdout",
     "output_type": "stream",
     "text": [
      "# hey!\r\n",
      "a,b,c,d,message\r\n",
      "# just wanted to make things more difficult for you\r\n",
      "# who reads CSV files with computers, anyway?\r\n",
      "1,2,3,4,hello\r\n",
      "5,6,7,8,world\r\n",
      "9,10,11,12,foo"
     ]
    }
   ],
   "source": [
    "!cat ch06/ex4.csv"
   ]
  },
  {
   "cell_type": "code",
   "execution_count": 28,
   "metadata": {
    "collapsed": false
   },
   "outputs": [
    {
     "data": {
      "text/html": [
       "<div>\n",
       "<table border=\"1\" class=\"dataframe\">\n",
       "  <thead>\n",
       "    <tr style=\"text-align: right;\">\n",
       "      <th></th>\n",
       "      <th>a</th>\n",
       "      <th>b</th>\n",
       "      <th>c</th>\n",
       "      <th>d</th>\n",
       "      <th>message</th>\n",
       "    </tr>\n",
       "  </thead>\n",
       "  <tbody>\n",
       "    <tr>\n",
       "      <th>0</th>\n",
       "      <td>1</td>\n",
       "      <td>2</td>\n",
       "      <td>3</td>\n",
       "      <td>4</td>\n",
       "      <td>hello</td>\n",
       "    </tr>\n",
       "    <tr>\n",
       "      <th>1</th>\n",
       "      <td>5</td>\n",
       "      <td>6</td>\n",
       "      <td>7</td>\n",
       "      <td>8</td>\n",
       "      <td>world</td>\n",
       "    </tr>\n",
       "    <tr>\n",
       "      <th>2</th>\n",
       "      <td>9</td>\n",
       "      <td>10</td>\n",
       "      <td>11</td>\n",
       "      <td>12</td>\n",
       "      <td>foo</td>\n",
       "    </tr>\n",
       "  </tbody>\n",
       "</table>\n",
       "</div>"
      ],
      "text/plain": [
       "   a   b   c   d message\n",
       "0  1   2   3   4   hello\n",
       "1  5   6   7   8   world\n",
       "2  9  10  11  12     foo"
      ]
     },
     "execution_count": 28,
     "metadata": {},
     "output_type": "execute_result"
    }
   ],
   "source": [
    "pd.read_csv('ch06/ex4.csv',skiprows=[0,2,3])"
   ]
  },
  {
   "cell_type": "code",
   "execution_count": 30,
   "metadata": {
    "collapsed": false
   },
   "outputs": [
    {
     "name": "stdout",
     "output_type": "stream",
     "text": [
      "something,a,b,c,d,message\r\n",
      "one,1,2,3,4,NA\r\n",
      "two,5,6,,8,world\r\n",
      "three,9,10,11,12,foo"
     ]
    }
   ],
   "source": [
    "!cat ch06/ex5.csv"
   ]
  },
  {
   "cell_type": "code",
   "execution_count": 34,
   "metadata": {
    "collapsed": false
   },
   "outputs": [
    {
     "data": {
      "text/html": [
       "<div>\n",
       "<table border=\"1\" class=\"dataframe\">\n",
       "  <thead>\n",
       "    <tr style=\"text-align: right;\">\n",
       "      <th></th>\n",
       "      <th>something</th>\n",
       "      <th>a</th>\n",
       "      <th>b</th>\n",
       "      <th>c</th>\n",
       "      <th>d</th>\n",
       "      <th>message</th>\n",
       "    </tr>\n",
       "  </thead>\n",
       "  <tbody>\n",
       "    <tr>\n",
       "      <th>0</th>\n",
       "      <td>one</td>\n",
       "      <td>1</td>\n",
       "      <td>2</td>\n",
       "      <td>3</td>\n",
       "      <td>4</td>\n",
       "      <td>NaN</td>\n",
       "    </tr>\n",
       "    <tr>\n",
       "      <th>1</th>\n",
       "      <td>two</td>\n",
       "      <td>5</td>\n",
       "      <td>6</td>\n",
       "      <td>NaN</td>\n",
       "      <td>8</td>\n",
       "      <td>world</td>\n",
       "    </tr>\n",
       "    <tr>\n",
       "      <th>2</th>\n",
       "      <td>three</td>\n",
       "      <td>9</td>\n",
       "      <td>10</td>\n",
       "      <td>11</td>\n",
       "      <td>12</td>\n",
       "      <td>foo</td>\n",
       "    </tr>\n",
       "  </tbody>\n",
       "</table>\n",
       "</div>"
      ],
      "text/plain": [
       "  something  a   b   c   d message\n",
       "0       one  1   2   3   4     NaN\n",
       "1       two  5   6 NaN   8   world\n",
       "2     three  9  10  11  12     foo"
      ]
     },
     "execution_count": 34,
     "metadata": {},
     "output_type": "execute_result"
    }
   ],
   "source": [
    "result=pd.read_table('ch06/ex5.csv',sep=',')\n",
    "result"
   ]
  },
  {
   "cell_type": "code",
   "execution_count": 37,
   "metadata": {
    "collapsed": false
   },
   "outputs": [
    {
     "data": {
      "text/html": [
       "<div>\n",
       "<table border=\"1\" class=\"dataframe\">\n",
       "  <thead>\n",
       "    <tr style=\"text-align: right;\">\n",
       "      <th></th>\n",
       "      <th>something</th>\n",
       "      <th>a</th>\n",
       "      <th>b</th>\n",
       "      <th>c</th>\n",
       "      <th>d</th>\n",
       "      <th>message</th>\n",
       "    </tr>\n",
       "  </thead>\n",
       "  <tbody>\n",
       "    <tr>\n",
       "      <th>0</th>\n",
       "      <td>False</td>\n",
       "      <td>False</td>\n",
       "      <td>False</td>\n",
       "      <td>False</td>\n",
       "      <td>False</td>\n",
       "      <td>True</td>\n",
       "    </tr>\n",
       "    <tr>\n",
       "      <th>1</th>\n",
       "      <td>False</td>\n",
       "      <td>False</td>\n",
       "      <td>False</td>\n",
       "      <td>True</td>\n",
       "      <td>False</td>\n",
       "      <td>False</td>\n",
       "    </tr>\n",
       "    <tr>\n",
       "      <th>2</th>\n",
       "      <td>False</td>\n",
       "      <td>False</td>\n",
       "      <td>False</td>\n",
       "      <td>False</td>\n",
       "      <td>False</td>\n",
       "      <td>False</td>\n",
       "    </tr>\n",
       "  </tbody>\n",
       "</table>\n",
       "</div>"
      ],
      "text/plain": [
       "  something      a      b      c      d message\n",
       "0     False  False  False  False  False    True\n",
       "1     False  False  False   True  False   False\n",
       "2     False  False  False  False  False   False"
      ]
     },
     "execution_count": 37,
     "metadata": {},
     "output_type": "execute_result"
    }
   ],
   "source": [
    "result.isnull()"
   ]
  },
  {
   "cell_type": "code",
   "execution_count": 39,
   "metadata": {
    "collapsed": true
   },
   "outputs": [],
   "source": [
    "result=pd.read_csv('ch06/ex5.csv',na_values=['NULL'])"
   ]
  },
  {
   "cell_type": "code",
   "execution_count": 41,
   "metadata": {
    "collapsed": false
   },
   "outputs": [
    {
     "data": {
      "text/html": [
       "<div>\n",
       "<table border=\"1\" class=\"dataframe\">\n",
       "  <thead>\n",
       "    <tr style=\"text-align: right;\">\n",
       "      <th></th>\n",
       "      <th>something</th>\n",
       "      <th>a</th>\n",
       "      <th>b</th>\n",
       "      <th>c</th>\n",
       "      <th>d</th>\n",
       "      <th>message</th>\n",
       "    </tr>\n",
       "  </thead>\n",
       "  <tbody>\n",
       "    <tr>\n",
       "      <th>0</th>\n",
       "      <td>one</td>\n",
       "      <td>1</td>\n",
       "      <td>2</td>\n",
       "      <td>3</td>\n",
       "      <td>4</td>\n",
       "      <td>NaN</td>\n",
       "    </tr>\n",
       "    <tr>\n",
       "      <th>1</th>\n",
       "      <td>two</td>\n",
       "      <td>5</td>\n",
       "      <td>6</td>\n",
       "      <td>NaN</td>\n",
       "      <td>8</td>\n",
       "      <td>world</td>\n",
       "    </tr>\n",
       "    <tr>\n",
       "      <th>2</th>\n",
       "      <td>three</td>\n",
       "      <td>9</td>\n",
       "      <td>10</td>\n",
       "      <td>11</td>\n",
       "      <td>12</td>\n",
       "      <td>foo</td>\n",
       "    </tr>\n",
       "  </tbody>\n",
       "</table>\n",
       "</div>"
      ],
      "text/plain": [
       "  something  a   b   c   d message\n",
       "0       one  1   2   3   4     NaN\n",
       "1       two  5   6 NaN   8   world\n",
       "2     three  9  10  11  12     foo"
      ]
     },
     "execution_count": 41,
     "metadata": {},
     "output_type": "execute_result"
    }
   ],
   "source": [
    "result"
   ]
  },
  {
   "cell_type": "code",
   "execution_count": 43,
   "metadata": {
    "collapsed": false
   },
   "outputs": [
    {
     "data": {
      "text/html": [
       "<div>\n",
       "<table border=\"1\" class=\"dataframe\">\n",
       "  <thead>\n",
       "    <tr style=\"text-align: right;\">\n",
       "      <th></th>\n",
       "      <th>something</th>\n",
       "      <th>a</th>\n",
       "      <th>b</th>\n",
       "      <th>c</th>\n",
       "      <th>d</th>\n",
       "      <th>message</th>\n",
       "    </tr>\n",
       "  </thead>\n",
       "  <tbody>\n",
       "    <tr>\n",
       "      <th>0</th>\n",
       "      <td>one</td>\n",
       "      <td>1</td>\n",
       "      <td>2</td>\n",
       "      <td>3</td>\n",
       "      <td>4</td>\n",
       "      <td>NaN</td>\n",
       "    </tr>\n",
       "    <tr>\n",
       "      <th>1</th>\n",
       "      <td>NaN</td>\n",
       "      <td>5</td>\n",
       "      <td>6</td>\n",
       "      <td>NaN</td>\n",
       "      <td>8</td>\n",
       "      <td>world</td>\n",
       "    </tr>\n",
       "    <tr>\n",
       "      <th>2</th>\n",
       "      <td>three</td>\n",
       "      <td>9</td>\n",
       "      <td>10</td>\n",
       "      <td>11</td>\n",
       "      <td>12</td>\n",
       "      <td>NaN</td>\n",
       "    </tr>\n",
       "  </tbody>\n",
       "</table>\n",
       "</div>"
      ],
      "text/plain": [
       "  something  a   b   c   d message\n",
       "0       one  1   2   3   4     NaN\n",
       "1       NaN  5   6 NaN   8   world\n",
       "2     three  9  10  11  12     NaN"
      ]
     },
     "execution_count": 43,
     "metadata": {},
     "output_type": "execute_result"
    }
   ],
   "source": [
    "sentinels={'message':['foo','NA'],'something':['two']}\n",
    "pd.read_csv('ch06/ex5.csv',na_values=sentinels)"
   ]
  },
  {
   "cell_type": "markdown",
   "metadata": {},
   "source": [
    "逐块读取文本文件\n",
    "------------"
   ]
  },
  {
   "cell_type": "code",
   "execution_count": 46,
   "metadata": {
    "collapsed": false
   },
   "outputs": [],
   "source": [
    "result=pd.read_csv('ch06/ex6.csv')"
   ]
  },
  {
   "cell_type": "code",
   "execution_count": 49,
   "metadata": {
    "collapsed": false
   },
   "outputs": [
    {
     "data": {
      "text/html": [
       "<div>\n",
       "<table border=\"1\" class=\"dataframe\">\n",
       "  <thead>\n",
       "    <tr style=\"text-align: right;\">\n",
       "      <th></th>\n",
       "      <th>one</th>\n",
       "      <th>two</th>\n",
       "      <th>three</th>\n",
       "      <th>four</th>\n",
       "      <th>key</th>\n",
       "    </tr>\n",
       "  </thead>\n",
       "  <tbody>\n",
       "    <tr>\n",
       "      <th>0</th>\n",
       "      <td>0.467976</td>\n",
       "      <td>-0.038649</td>\n",
       "      <td>-0.295344</td>\n",
       "      <td>-1.824726</td>\n",
       "      <td>L</td>\n",
       "    </tr>\n",
       "    <tr>\n",
       "      <th>1</th>\n",
       "      <td>-0.358893</td>\n",
       "      <td>1.404453</td>\n",
       "      <td>0.704965</td>\n",
       "      <td>-0.200638</td>\n",
       "      <td>B</td>\n",
       "    </tr>\n",
       "    <tr>\n",
       "      <th>2</th>\n",
       "      <td>-0.501840</td>\n",
       "      <td>0.659254</td>\n",
       "      <td>-0.421691</td>\n",
       "      <td>-0.057688</td>\n",
       "      <td>G</td>\n",
       "    </tr>\n",
       "    <tr>\n",
       "      <th>3</th>\n",
       "      <td>0.204886</td>\n",
       "      <td>1.074134</td>\n",
       "      <td>1.388361</td>\n",
       "      <td>-0.982404</td>\n",
       "      <td>R</td>\n",
       "    </tr>\n",
       "    <tr>\n",
       "      <th>4</th>\n",
       "      <td>0.354628</td>\n",
       "      <td>-0.133116</td>\n",
       "      <td>0.283763</td>\n",
       "      <td>-0.837063</td>\n",
       "      <td>Q</td>\n",
       "    </tr>\n",
       "  </tbody>\n",
       "</table>\n",
       "</div>"
      ],
      "text/plain": [
       "        one       two     three      four key\n",
       "0  0.467976 -0.038649 -0.295344 -1.824726   L\n",
       "1 -0.358893  1.404453  0.704965 -0.200638   B\n",
       "2 -0.501840  0.659254 -0.421691 -0.057688   G\n",
       "3  0.204886  1.074134  1.388361 -0.982404   R\n",
       "4  0.354628 -0.133116  0.283763 -0.837063   Q"
      ]
     },
     "execution_count": 49,
     "metadata": {},
     "output_type": "execute_result"
    }
   ],
   "source": [
    "pd.read_csv('ch06/ex6.csv',nrows=5)"
   ]
  },
  {
   "cell_type": "code",
   "execution_count": 52,
   "metadata": {
    "collapsed": false
   },
   "outputs": [
    {
     "data": {
      "text/plain": [
       "<pandas.io.parsers.TextFileReader at 0x7f4208739610>"
      ]
     },
     "execution_count": 52,
     "metadata": {},
     "output_type": "execute_result"
    }
   ],
   "source": [
    "chunker=pd.read_csv('ch06/ex6.csv',chunksize=1000)\n",
    "chunker"
   ]
  },
  {
   "cell_type": "code",
   "execution_count": 61,
   "metadata": {
    "collapsed": false
   },
   "outputs": [
    {
     "data": {
      "text/plain": [
       "E    368\n",
       "X    364\n",
       "L    346\n",
       "O    343\n",
       "Q    340\n",
       "M    338\n",
       "J    337\n",
       "F    335\n",
       "K    334\n",
       "H    330\n",
       "V    328\n",
       "I    327\n",
       "U    326\n",
       "P    324\n",
       "D    320\n",
       "A    320\n",
       "R    318\n",
       "Y    314\n",
       "G    308\n",
       "S    308\n",
       "N    306\n",
       "W    305\n",
       "T    304\n",
       "B    302\n",
       "Z    288\n",
       "C    286\n",
       "4    171\n",
       "6    166\n",
       "7    164\n",
       "8    162\n",
       "3    162\n",
       "5    157\n",
       "2    152\n",
       "0    151\n",
       "9    150\n",
       "1    146\n",
       "dtype: float64"
      ]
     },
     "execution_count": 61,
     "metadata": {},
     "output_type": "execute_result"
    }
   ],
   "source": [
    "chunker=pd.read_csv('ch06/ex6.csv',chunksize=1000)\n",
    "tot=pd.Series([])\n",
    "for piece in chunker:\n",
    "    tot=tot.add(piece['key'].value_counts(),fill_value=0)\n",
    "tot=tot.sort_values(ascending=False)\n",
    "tot"
   ]
  },
  {
   "cell_type": "markdown",
   "metadata": {},
   "source": [
    "将数据写出到文本格式\n",
    "----------------"
   ]
  },
  {
   "cell_type": "code",
   "execution_count": 63,
   "metadata": {
    "collapsed": false
   },
   "outputs": [
    {
     "data": {
      "text/html": [
       "<div>\n",
       "<table border=\"1\" class=\"dataframe\">\n",
       "  <thead>\n",
       "    <tr style=\"text-align: right;\">\n",
       "      <th></th>\n",
       "      <th>something</th>\n",
       "      <th>a</th>\n",
       "      <th>b</th>\n",
       "      <th>c</th>\n",
       "      <th>d</th>\n",
       "      <th>message</th>\n",
       "    </tr>\n",
       "  </thead>\n",
       "  <tbody>\n",
       "    <tr>\n",
       "      <th>0</th>\n",
       "      <td>one</td>\n",
       "      <td>1</td>\n",
       "      <td>2</td>\n",
       "      <td>3</td>\n",
       "      <td>4</td>\n",
       "      <td>NaN</td>\n",
       "    </tr>\n",
       "    <tr>\n",
       "      <th>1</th>\n",
       "      <td>two</td>\n",
       "      <td>5</td>\n",
       "      <td>6</td>\n",
       "      <td>NaN</td>\n",
       "      <td>8</td>\n",
       "      <td>world</td>\n",
       "    </tr>\n",
       "    <tr>\n",
       "      <th>2</th>\n",
       "      <td>three</td>\n",
       "      <td>9</td>\n",
       "      <td>10</td>\n",
       "      <td>11</td>\n",
       "      <td>12</td>\n",
       "      <td>foo</td>\n",
       "    </tr>\n",
       "  </tbody>\n",
       "</table>\n",
       "</div>"
      ],
      "text/plain": [
       "  something  a   b   c   d message\n",
       "0       one  1   2   3   4     NaN\n",
       "1       two  5   6 NaN   8   world\n",
       "2     three  9  10  11  12     foo"
      ]
     },
     "execution_count": 63,
     "metadata": {},
     "output_type": "execute_result"
    }
   ],
   "source": [
    "data=pd.read_csv('ch06/ex5.csv')\n",
    "data"
   ]
  },
  {
   "cell_type": "code",
   "execution_count": 65,
   "metadata": {
    "collapsed": true
   },
   "outputs": [],
   "source": [
    "data.to_csv('ch06/out.csv')"
   ]
  },
  {
   "cell_type": "code",
   "execution_count": 67,
   "metadata": {
    "collapsed": false
   },
   "outputs": [
    {
     "name": "stdout",
     "output_type": "stream",
     "text": [
      ",something,a,b,c,d,message\r\n",
      "0,one,1,2,3.0,4,\r\n",
      "1,two,5,6,,8,world\r\n",
      "2,three,9,10,11.0,12,foo\r\n"
     ]
    }
   ],
   "source": [
    "!cat ch06/out.csv"
   ]
  },
  {
   "cell_type": "code",
   "execution_count": 73,
   "metadata": {
    "collapsed": false
   },
   "outputs": [
    {
     "name": "stdout",
     "output_type": "stream",
     "text": [
      "|something|a|b|c|d|message\n",
      "0|one|1|2|3.0|4|\n",
      "1|two|5|6||8|world\n",
      "2|three|9|10|11.0|12|foo\n"
     ]
    }
   ],
   "source": [
    "import sys\n",
    "data.to_csv(sys.stdout,sep='|')"
   ]
  },
  {
   "cell_type": "code",
   "execution_count": 78,
   "metadata": {
    "collapsed": false
   },
   "outputs": [
    {
     "name": "stdout",
     "output_type": "stream",
     "text": [
      ",something,a,b,c,d,message\n",
      "0,one,1,2,3.0,4,NULL\n",
      "1,two,5,6,NULL,8,world\n",
      "2,three,9,10,11.0,12,foo\n"
     ]
    }
   ],
   "source": [
    "data.to_csv(sys.stdout,na_rep='NULL')"
   ]
  },
  {
   "cell_type": "code",
   "execution_count": 80,
   "metadata": {
    "collapsed": false
   },
   "outputs": [
    {
     "name": "stdout",
     "output_type": "stream",
     "text": [
      "one,1,2,3.0,4,\n",
      "two,5,6,,8,world\n",
      "three,9,10,11.0,12,foo\n"
     ]
    }
   ],
   "source": [
    "data.to_csv(sys.stdout,index=False,header=False)"
   ]
  },
  {
   "cell_type": "code",
   "execution_count": 85,
   "metadata": {
    "collapsed": false
   },
   "outputs": [
    {
     "name": "stdout",
     "output_type": "stream",
     "text": [
      "something,a,b,c,d,message\n",
      "one,1,2,3.0,4,\n",
      "two,5,6,,8,world\n",
      "three,9,10,11.0,12,foo\n"
     ]
    }
   ],
   "source": [
    "data.to_csv(sys.stdout,index=False,cols=['a','b'])"
   ]
  },
  {
   "cell_type": "code",
   "execution_count": 91,
   "metadata": {
    "collapsed": false
   },
   "outputs": [
    {
     "data": {
      "text/plain": [
       "2000-01-01    0\n",
       "2000-01-02    1\n",
       "2000-01-03    2\n",
       "2000-01-04    3\n",
       "2000-01-05    4\n",
       "2000-01-06    5\n",
       "2000-01-07    6\n",
       "Freq: D, dtype: int64"
      ]
     },
     "execution_count": 91,
     "metadata": {},
     "output_type": "execute_result"
    }
   ],
   "source": [
    "import numpy as np\n",
    "dates=pd.date_range('1/1/2000',periods=7)\n",
    "ts=pd.Series(np.arange(7),index=dates)\n",
    "ts"
   ]
  },
  {
   "cell_type": "code",
   "execution_count": 93,
   "metadata": {
    "collapsed": true
   },
   "outputs": [],
   "source": [
    "ts.to_csv('ch06/tsseries.csv')"
   ]
  },
  {
   "cell_type": "code",
   "execution_count": 95,
   "metadata": {
    "collapsed": false
   },
   "outputs": [
    {
     "name": "stdout",
     "output_type": "stream",
     "text": [
      "2000-01-01,0\r\n",
      "2000-01-02,1\r\n",
      "2000-01-03,2\r\n",
      "2000-01-04,3\r\n",
      "2000-01-05,4\r\n",
      "2000-01-06,5\r\n",
      "2000-01-07,6\r\n"
     ]
    }
   ],
   "source": [
    "!cat ch06/tsseries.csv"
   ]
  },
  {
   "cell_type": "code",
   "execution_count": 97,
   "metadata": {
    "collapsed": false
   },
   "outputs": [
    {
     "data": {
      "text/plain": [
       "2000-01-01    0\n",
       "2000-01-02    1\n",
       "2000-01-03    2\n",
       "2000-01-04    3\n",
       "2000-01-05    4\n",
       "2000-01-06    5\n",
       "2000-01-07    6\n",
       "dtype: int64"
      ]
     },
     "execution_count": 97,
     "metadata": {},
     "output_type": "execute_result"
    }
   ],
   "source": [
    "pd.Series.from_csv('ch06/tseries.csv',parse_dates=True)"
   ]
  },
  {
   "cell_type": "markdown",
   "metadata": {},
   "source": [
    "手工处理分隔符格式\n",
    "----------"
   ]
  },
  {
   "cell_type": "code",
   "execution_count": 3,
   "metadata": {
    "collapsed": false
   },
   "outputs": [
    {
     "name": "stdout",
     "output_type": "stream",
     "text": [
      "\"a\",\"b\",\"c\"\r\n",
      "\"1\",\"2\",\"3\"\r\n",
      "\"1\",\"2\",\"3\",\"4\"\r\n"
     ]
    }
   ],
   "source": [
    "!cat ch06/ex7.csv"
   ]
  },
  {
   "cell_type": "code",
   "execution_count": 6,
   "metadata": {
    "collapsed": false
   },
   "outputs": [
    {
     "name": "stdout",
     "output_type": "stream",
     "text": [
      "['a', 'b', 'c']\n",
      "['1', '2', '3']\n",
      "['1', '2', '3', '4']\n"
     ]
    }
   ],
   "source": [
    "import csv\n",
    "f=open('ch06/ex7.csv')\n",
    "reader=csv.reader(f)\n",
    "for line in reader:\n",
    "    print line"
   ]
  },
  {
   "cell_type": "code",
   "execution_count": 9,
   "metadata": {
    "collapsed": false
   },
   "outputs": [
    {
     "data": {
      "text/plain": [
       "[['a', 'b', 'c'], ['1', '2', '3'], ['1', '2', '3', '4']]"
      ]
     },
     "execution_count": 9,
     "metadata": {},
     "output_type": "execute_result"
    }
   ],
   "source": [
    "lines=list(csv.reader(open('ch06/ex7.csv')))\n",
    "lines"
   ]
  },
  {
   "cell_type": "markdown",
   "metadata": {},
   "source": [
    "JSON数据\n",
    "---------"
   ]
  },
  {
   "cell_type": "code",
   "execution_count": 25,
   "metadata": {
    "collapsed": true
   },
   "outputs": [],
   "source": [
    "obj=\"\"\"{\"names\":\"Wes\",\n",
    "                \"places_lived\":[\"United States\",\"Spain\",\"German\"],\n",
    "                \"pet\":null,\n",
    "                \"siblings\":[{\"names\":\"Scott\",\"age\":25,\"pet\":\"zuko\"},{\"names\":\"Katie\",\"age\":33,\"pet\":\"Cisco\"}]\n",
    "                }\"\"\"\n"
   ]
  },
  {
   "cell_type": "code",
   "execution_count": 27,
   "metadata": {
    "collapsed": false
   },
   "outputs": [],
   "source": [
    "\n",
    "import json\n",
    "result=json.loads(obj)\n"
   ]
  },
  {
   "cell_type": "code",
   "execution_count": 29,
   "metadata": {
    "collapsed": false
   },
   "outputs": [
    {
     "data": {
      "text/plain": [
       "{u'names': u'Wes',\n",
       " u'pet': None,\n",
       " u'places_lived': [u'United States', u'Spain', u'German'],\n",
       " u'siblings': [{u'age': 25, u'names': u'Scott', u'pet': u'zuko'},\n",
       "  {u'age': 33, u'names': u'Katie', u'pet': u'Cisco'}]}"
      ]
     },
     "execution_count": 29,
     "metadata": {},
     "output_type": "execute_result"
    }
   ],
   "source": [
    "result"
   ]
  },
  {
   "cell_type": "code",
   "execution_count": 32,
   "metadata": {
    "collapsed": false
   },
   "outputs": [
    {
     "data": {
      "text/plain": [
       "'{\"pet\": null, \"siblings\": [{\"pet\": \"zuko\", \"age\": 25, \"names\": \"Scott\"}, {\"pet\": \"Cisco\", \"age\": 33, \"names\": \"Katie\"}], \"names\": \"Wes\", \"places_lived\": [\"United States\", \"Spain\", \"German\"]}'"
      ]
     },
     "execution_count": 32,
     "metadata": {},
     "output_type": "execute_result"
    }
   ],
   "source": [
    "asjson=json.dumps(result)\n",
    "asjson"
   ]
  },
  {
   "cell_type": "code",
   "execution_count": 42,
   "metadata": {
    "collapsed": false
   },
   "outputs": [
    {
     "data": {
      "text/html": [
       "<div>\n",
       "<table border=\"1\" class=\"dataframe\">\n",
       "  <thead>\n",
       "    <tr style=\"text-align: right;\">\n",
       "      <th></th>\n",
       "      <th>names</th>\n",
       "      <th>age</th>\n",
       "      <th>pet</th>\n",
       "    </tr>\n",
       "  </thead>\n",
       "  <tbody>\n",
       "    <tr>\n",
       "      <th>0</th>\n",
       "      <td>Scott</td>\n",
       "      <td>25</td>\n",
       "      <td>zuko</td>\n",
       "    </tr>\n",
       "    <tr>\n",
       "      <th>1</th>\n",
       "      <td>Katie</td>\n",
       "      <td>33</td>\n",
       "      <td>Cisco</td>\n",
       "    </tr>\n",
       "  </tbody>\n",
       "</table>\n",
       "</div>"
      ],
      "text/plain": [
       "   names  age    pet\n",
       "0  Scott   25   zuko\n",
       "1  Katie   33  Cisco"
      ]
     },
     "execution_count": 42,
     "metadata": {},
     "output_type": "execute_result"
    }
   ],
   "source": [
    "siblings=pd.DataFrame(result['siblings'],columns=['names','age','pet'])\n",
    "siblings"
   ]
  },
  {
   "cell_type": "code",
   "execution_count": 41,
   "metadata": {
    "collapsed": false
   },
   "outputs": [
    {
     "data": {
      "text/plain": [
       "u'Wes'"
      ]
     },
     "execution_count": 41,
     "metadata": {},
     "output_type": "execute_result"
    }
   ],
   "source": [
    "result['names']"
   ]
  },
  {
   "cell_type": "code",
   "execution_count": 46,
   "metadata": {
    "collapsed": false
   },
   "outputs": [
    {
     "ename": "ValueError",
     "evalue": "arrays must all be same length",
     "output_type": "error",
     "traceback": [
      "\u001b[1;31m---------------------------------------------------------------------------\u001b[0m",
      "\u001b[1;31mValueError\u001b[0m                                Traceback (most recent call last)",
      "\u001b[1;32m<ipython-input-46-3a9912153cfe>\u001b[0m in \u001b[0;36m<module>\u001b[1;34m()\u001b[0m\n\u001b[1;32m----> 1\u001b[1;33m \u001b[0msiblings\u001b[0m\u001b[1;33m=\u001b[0m\u001b[0mpd\u001b[0m\u001b[1;33m.\u001b[0m\u001b[0mDataFrame\u001b[0m\u001b[1;33m(\u001b[0m\u001b[0mresult\u001b[0m\u001b[1;33m,\u001b[0m\u001b[0mcolumns\u001b[0m\u001b[1;33m=\u001b[0m\u001b[1;33m[\u001b[0m\u001b[1;34m'names'\u001b[0m\u001b[1;33m,\u001b[0m\u001b[1;34m'pet'\u001b[0m\u001b[1;33m]\u001b[0m\u001b[1;33m)\u001b[0m\u001b[1;33m\u001b[0m\u001b[0m\n\u001b[0m\u001b[0;32m      2\u001b[0m \u001b[0msiblings\u001b[0m\u001b[1;33m\u001b[0m\u001b[0m\n",
      "\u001b[1;32m/usr/local/lib/python2.7/dist-packages/pandas/core/frame.pyc\u001b[0m in \u001b[0;36m__init__\u001b[1;34m(self, data, index, columns, dtype, copy)\u001b[0m\n\u001b[0;32m    225\u001b[0m                                  dtype=dtype, copy=copy)\n\u001b[0;32m    226\u001b[0m         \u001b[1;32melif\u001b[0m \u001b[0misinstance\u001b[0m\u001b[1;33m(\u001b[0m\u001b[0mdata\u001b[0m\u001b[1;33m,\u001b[0m \u001b[0mdict\u001b[0m\u001b[1;33m)\u001b[0m\u001b[1;33m:\u001b[0m\u001b[1;33m\u001b[0m\u001b[0m\n\u001b[1;32m--> 227\u001b[1;33m             \u001b[0mmgr\u001b[0m \u001b[1;33m=\u001b[0m \u001b[0mself\u001b[0m\u001b[1;33m.\u001b[0m\u001b[0m_init_dict\u001b[0m\u001b[1;33m(\u001b[0m\u001b[0mdata\u001b[0m\u001b[1;33m,\u001b[0m \u001b[0mindex\u001b[0m\u001b[1;33m,\u001b[0m \u001b[0mcolumns\u001b[0m\u001b[1;33m,\u001b[0m \u001b[0mdtype\u001b[0m\u001b[1;33m=\u001b[0m\u001b[0mdtype\u001b[0m\u001b[1;33m)\u001b[0m\u001b[1;33m\u001b[0m\u001b[0m\n\u001b[0m\u001b[0;32m    228\u001b[0m         \u001b[1;32melif\u001b[0m \u001b[0misinstance\u001b[0m\u001b[1;33m(\u001b[0m\u001b[0mdata\u001b[0m\u001b[1;33m,\u001b[0m \u001b[0mma\u001b[0m\u001b[1;33m.\u001b[0m\u001b[0mMaskedArray\u001b[0m\u001b[1;33m)\u001b[0m\u001b[1;33m:\u001b[0m\u001b[1;33m\u001b[0m\u001b[0m\n\u001b[0;32m    229\u001b[0m             \u001b[1;32mimport\u001b[0m \u001b[0mnumpy\u001b[0m\u001b[1;33m.\u001b[0m\u001b[0mma\u001b[0m\u001b[1;33m.\u001b[0m\u001b[0mmrecords\u001b[0m \u001b[1;32mas\u001b[0m \u001b[0mmrecords\u001b[0m\u001b[1;33m\u001b[0m\u001b[0m\n",
      "\u001b[1;32m/usr/local/lib/python2.7/dist-packages/pandas/core/frame.pyc\u001b[0m in \u001b[0;36m_init_dict\u001b[1;34m(self, data, index, columns, dtype)\u001b[0m\n\u001b[0;32m    317\u001b[0m             \u001b[1;31m# raise ValueError if only scalars in dict\u001b[0m\u001b[1;33m\u001b[0m\u001b[1;33m\u001b[0m\u001b[0m\n\u001b[0;32m    318\u001b[0m             \u001b[1;32mif\u001b[0m \u001b[0mindex\u001b[0m \u001b[1;32mis\u001b[0m \u001b[0mNone\u001b[0m\u001b[1;33m:\u001b[0m\u001b[1;33m\u001b[0m\u001b[0m\n\u001b[1;32m--> 319\u001b[1;33m                 \u001b[0mextract_index\u001b[0m\u001b[1;33m(\u001b[0m\u001b[0mlist\u001b[0m\u001b[1;33m(\u001b[0m\u001b[0mdata\u001b[0m\u001b[1;33m.\u001b[0m\u001b[0mvalues\u001b[0m\u001b[1;33m(\u001b[0m\u001b[1;33m)\u001b[0m\u001b[1;33m)\u001b[0m\u001b[1;33m)\u001b[0m\u001b[1;33m\u001b[0m\u001b[0m\n\u001b[0m\u001b[0;32m    320\u001b[0m \u001b[1;33m\u001b[0m\u001b[0m\n\u001b[0;32m    321\u001b[0m             \u001b[1;31m# prefilter if columns passed\u001b[0m\u001b[1;33m\u001b[0m\u001b[1;33m\u001b[0m\u001b[0m\n",
      "\u001b[1;32m/usr/local/lib/python2.7/dist-packages/pandas/core/frame.pyc\u001b[0m in \u001b[0;36mextract_index\u001b[1;34m(data)\u001b[0m\n\u001b[0;32m   5138\u001b[0m             \u001b[0mlengths\u001b[0m \u001b[1;33m=\u001b[0m \u001b[0mlist\u001b[0m\u001b[1;33m(\u001b[0m\u001b[0mset\u001b[0m\u001b[1;33m(\u001b[0m\u001b[0mraw_lengths\u001b[0m\u001b[1;33m)\u001b[0m\u001b[1;33m)\u001b[0m\u001b[1;33m\u001b[0m\u001b[0m\n\u001b[0;32m   5139\u001b[0m             \u001b[1;32mif\u001b[0m \u001b[0mlen\u001b[0m\u001b[1;33m(\u001b[0m\u001b[0mlengths\u001b[0m\u001b[1;33m)\u001b[0m \u001b[1;33m>\u001b[0m \u001b[1;36m1\u001b[0m\u001b[1;33m:\u001b[0m\u001b[1;33m\u001b[0m\u001b[0m\n\u001b[1;32m-> 5140\u001b[1;33m                 \u001b[1;32mraise\u001b[0m \u001b[0mValueError\u001b[0m\u001b[1;33m(\u001b[0m\u001b[1;34m'arrays must all be same length'\u001b[0m\u001b[1;33m)\u001b[0m\u001b[1;33m\u001b[0m\u001b[0m\n\u001b[0m\u001b[0;32m   5141\u001b[0m \u001b[1;33m\u001b[0m\u001b[0m\n\u001b[0;32m   5142\u001b[0m             \u001b[1;32mif\u001b[0m \u001b[0mhave_dicts\u001b[0m\u001b[1;33m:\u001b[0m\u001b[1;33m\u001b[0m\u001b[0m\n",
      "\u001b[1;31mValueError\u001b[0m: arrays must all be same length"
     ]
    }
   ],
   "source": [
    "siblings=pd.DataFrame(result,columns=['names','pet'])\n",
    "siblings"
   ]
  },
  {
   "cell_type": "markdown",
   "metadata": {},
   "source": [
    "XML和HTML: Web信息收集\n",
    "---------"
   ]
  },
  {
   "cell_type": "code",
   "execution_count": 47,
   "metadata": {
    "collapsed": true
   },
   "outputs": [],
   "source": [
    "from lxml.html import parse\n",
    "from urllib2 import urlopen\n",
    "parsed=parse(urlopen('http://finance.yahoo.com/q/op?s=AAPL+Options'))\n",
    "doc=parsed.getroot()\n"
   ]
  },
  {
   "cell_type": "code",
   "execution_count": 53,
   "metadata": {
    "collapsed": false
   },
   "outputs": [
    {
     "data": {
      "text/plain": [
       "[<Element a at 0x7fd00b6643c0>,\n",
       " <Element a at 0x7fd00b664418>,\n",
       " <Element a at 0x7fd00b664470>,\n",
       " <Element a at 0x7fd00b6644c8>,\n",
       " <Element a at 0x7fd00b664520>]"
      ]
     },
     "execution_count": 53,
     "metadata": {},
     "output_type": "execute_result"
    }
   ],
   "source": [
    "links=doc.findall('.//a')\n",
    "links[15:20]"
   ]
  },
  {
   "cell_type": "code",
   "execution_count": 55,
   "metadata": {
    "collapsed": false
   },
   "outputs": [
    {
     "data": {
      "text/plain": [
       "<Element a at 0x7fd00b664838>"
      ]
     },
     "execution_count": 55,
     "metadata": {},
     "output_type": "execute_result"
    }
   ],
   "source": [
    "lnk=links[28]\n",
    "lnk"
   ]
  },
  {
   "cell_type": "code",
   "execution_count": 57,
   "metadata": {
    "collapsed": false
   },
   "outputs": [
    {
     "data": {
      "text/plain": [
       "'https://autos.yahoo.com/'"
      ]
     },
     "execution_count": 57,
     "metadata": {},
     "output_type": "execute_result"
    }
   ],
   "source": [
    "lnk.get('href')"
   ]
  },
  {
   "cell_type": "code",
   "execution_count": 60,
   "metadata": {
    "collapsed": false
   },
   "outputs": [
    {
     "data": {
      "text/plain": [
       "'Autos'"
      ]
     },
     "execution_count": 60,
     "metadata": {},
     "output_type": "execute_result"
    }
   ],
   "source": [
    "lnk.text_content()"
   ]
  },
  {
   "cell_type": "code",
   "execution_count": 62,
   "metadata": {
    "collapsed": true
   },
   "outputs": [],
   "source": [
    "urls=[lnk.get('href') for lnk in links]"
   ]
  },
  {
   "cell_type": "code",
   "execution_count": 64,
   "metadata": {
    "collapsed": false
   },
   "outputs": [
    {
     "data": {
      "text/plain": [
       "['https://www.yahoo.com/',\n",
       " 'https://mail.yahoo.com/?.intl=us&.lang=en-US&.src=ym',\n",
       " 'https://search.yahoo.com/search',\n",
       " 'http://news.yahoo.com/',\n",
       " 'http://sports.yahoo.com/',\n",
       " 'http://finance.yahoo.com/',\n",
       " 'https://weather.yahoo.com/',\n",
       " 'https://games.yahoo.com/',\n",
       " 'https://answers.yahoo.com/',\n",
       " 'https://screen.yahoo.com/',\n",
       " 'https://www.flickr.com/',\n",
       " 'https://mobile.yahoo.com/',\n",
       " 'http://everything.yahoo.com/',\n",
       " 'https://www.yahoo.com/politics',\n",
       " 'https://celebrity.yahoo.com/',\n",
       " 'https://www.yahoo.com/movies',\n",
       " 'https://www.yahoo.com/music',\n",
       " 'https://www.yahoo.com/tv',\n",
       " 'https://groups.yahoo.com/',\n",
       " 'https://www.yahoo.com/health',\n",
       " 'https://www.yahoo.com/style',\n",
       " 'https://www.yahoo.com/beauty',\n",
       " 'https://www.yahoo.com/food',\n",
       " 'https://www.yahoo.com/parenting',\n",
       " 'https://www.yahoo.com/makers',\n",
       " 'https://www.yahoo.com/tech',\n",
       " 'http://shopping.yahoo.com/',\n",
       " 'https://www.yahoo.com/travel',\n",
       " 'https://autos.yahoo.com/',\n",
       " 'https://www.yahoo.com/realestate',\n",
       " 'https://www.mozilla.org/firefox/new/?utm_source=yahoo&utm_medium=referral&utm_campaign=y-uh&utm_content=y-finance-try',\n",
       " 'http://finance.yahoo.com',\n",
       " 'https://login.yahoo.com/config/login?.src=quote&.intl=us&.lang=en-US&.done=http://finance.yahoo.com/q/op%3fs=AAPL%2520Options',\n",
       " 'https://login.yahoo.com/config/login?.src=quote&.intl=us&.lang=en-US&.done=http://finance.yahoo.com/q/op%3fs=AAPL%2520Options',\n",
       " 'https://mail.yahoo.com/?.intl=us&.lang=en-US&.src=ym',\n",
       " 'javascript:void(0);',\n",
       " 'https://login.yahoo.com/account/personalinfo?.intl=us&.lang=en-US&.done=http://finance.yahoo.com/q/op%3fs=AAPL%2520Options&.src=quote&.intl=us&.lang=en-US',\n",
       " 'https://help.yahoo.com/l/us/yahoo/finance/',\n",
       " 'http://feedback.yahoo.com/forums/207809',\n",
       " 'https://www.yahoo.com/',\n",
       " '/',\n",
       " '/portfolios.html',\n",
       " '/portfolios/manage',\n",
       " '/portfolio/new',\n",
       " '/my-quotes-news/',\n",
       " '/market-overview/',\n",
       " '/stock-center/',\n",
       " '/funds/',\n",
       " '/options/',\n",
       " '/etf/',\n",
       " '/bonds',\n",
       " '/futures',\n",
       " '/currency-investing',\n",
       " 'http://biz.yahoo.com/research/earncal/today.html',\n",
       " '/yahoofinance/',\n",
       " '/news/marketmovers/',\n",
       " '/news/middaymovers/',\n",
       " '/yahoofinance/business/',\n",
       " '/yahoofinance/investing',\n",
       " '/yahoofinance/personalfinance',\n",
       " '/blogs/breakout/',\n",
       " '/blogs/cost-of-living/',\n",
       " '/blogs/daily-ticker/',\n",
       " '/blogs/driven/',\n",
       " '/blogs/hot-stock-minute/',\n",
       " '/blogs/just-explain-it/',\n",
       " 'http://finance.yahoo.com/blogs/author/aaron-task/',\n",
       " '/blogs/author/michael-santoli/',\n",
       " '/blogs/author/jeff-macke/',\n",
       " '/blogs/author/aaron-pressman/',\n",
       " '/blogs/author/rick-newman/',\n",
       " '/blogs/author/mandi-woodruff/',\n",
       " '/blogs/the-exchange/',\n",
       " '/blogs/michael-santoli/',\n",
       " 'http://finance.yahoo.com/blogs/author/philip-pearlman/',\n",
       " '/blogs/author/andy-serwer',\n",
       " '/news/thefinalround',\n",
       " '/news/',\n",
       " '/corporate-news/',\n",
       " '/economic-policy-news/',\n",
       " '/investing-news/',\n",
       " '/personal-finance/',\n",
       " '/career-education/',\n",
       " '/real-estate/',\n",
       " '/retirement/',\n",
       " '/credit-debt/',\n",
       " '/taxes/',\n",
       " '/autos/',\n",
       " '/lifestyle/',\n",
       " '/videos/',\n",
       " '/rates/',\n",
       " '/calculator/index/',\n",
       " '/personal-finance/tools/',\n",
       " '/cnbc/',\n",
       " '/blogs/big-data-download/',\n",
       " '/blogs/off-the-cuff/',\n",
       " '/blogs/power-pitch/',\n",
       " '/blogs/talking-numbers/',\n",
       " '/blogs/the-biz-fix/',\n",
       " '/blogs/top-best-most/',\n",
       " '/contributors/',\n",
       " 'http://finance.search.yahoo.com?fr=fin-v1',\n",
       " '/q?s=^DJI',\n",
       " '/q?s=^IXIC',\n",
       " '/q?s=AAPL',\n",
       " '/q/ecn?s=AAPL+Order+Book',\n",
       " '/q/op?s=AAPL+Options',\n",
       " '/q/hp?s=AAPL+Historical+Prices',\n",
       " '/echarts?s=AAPL+Interactive',\n",
       " '/q/h?s=AAPL+Headlines',\n",
       " '/q/p?s=AAPL+Press+Releases',\n",
       " '/q/ce?s=AAPL+Company+Events',\n",
       " '/mb?s=AAPL',\n",
       " '/marketpulse/AAPL',\n",
       " '/q/pr?s=AAPL+Profile',\n",
       " '/q/ks?s=AAPL+Key+Statistics',\n",
       " '/q/sec?s=AAPL+SEC+Filings',\n",
       " '/q/co?s=AAPL+Competitors',\n",
       " '/q/in?s=AAPL+Industry',\n",
       " '/q/ct?s=AAPL+Components',\n",
       " '/q/ao?s=AAPL+Analyst+Opinion',\n",
       " '/q/ae?s=AAPL+Analyst+Estimates',\n",
       " '/q/mh?s=AAPL+Major+Holders',\n",
       " '/q/it?s=AAPL+Insider+Transactions',\n",
       " '/q/ir?s=AAPL+Insider+Roster',\n",
       " '/q/is?s=AAPL+Income+Statement',\n",
       " '/q/bs?s=AAPL+Balance+Sheet',\n",
       " '/q/cf?s=AAPL+Cash+Flow',\n",
       " 'https://mobile.yahoo.com/finance/?src=gta',\n",
       " '/q/op?s=AAPL&date=1447977600',\n",
       " '/q/op?s=AAPL&straddle=true&date=1447977600',\n",
       " None,\n",
       " None,\n",
       " '/q/op?s=AAPL&strike=60.00',\n",
       " '/q?s=AAPL151120C00060000',\n",
       " '/q/op?s=AAPL&strike=65.00',\n",
       " '/q?s=AAPL151120C00065000',\n",
       " '/q/op?s=AAPL&strike=70.00',\n",
       " '/q?s=AAPL151120C00070000',\n",
       " '/q/op?s=AAPL&strike=75.00',\n",
       " '/q?s=AAPL151120C00075000',\n",
       " '/q/op?s=AAPL&strike=80.00',\n",
       " '/q?s=AAPL151120C00080000',\n",
       " '/q/op?s=AAPL&strike=84.00',\n",
       " '/q?s=AAPL151120C00084000',\n",
       " '/q/op?s=AAPL&strike=85.00',\n",
       " '/q?s=AAPL151120C00085000',\n",
       " '/q/op?s=AAPL&strike=89.00',\n",
       " '/q?s=AAPL151120C00089000',\n",
       " '/q/op?s=AAPL&strike=90.00',\n",
       " '/q?s=AAPL151120C00090000',\n",
       " '/q/op?s=AAPL&strike=91.00',\n",
       " '/q?s=AAPL151120C00091000',\n",
       " '/q/op?s=AAPL&strike=92.00',\n",
       " '/q?s=AAPL151120C00092000',\n",
       " '/q/op?s=AAPL&strike=92.50',\n",
       " '/q?s=AAPL151120C00092500',\n",
       " '/q/op?s=AAPL&strike=93.00',\n",
       " '/q?s=AAPL151120C00093000',\n",
       " '/q/op?s=AAPL&strike=94.00',\n",
       " '/q?s=AAPL151120C00094000',\n",
       " '/q/op?s=AAPL&strike=95.00',\n",
       " '/q?s=AAPL151120C00095000',\n",
       " '/q/op?s=AAPL&strike=96.00',\n",
       " '/q?s=AAPL151120C00096000',\n",
       " '/q/op?s=AAPL&strike=96.50',\n",
       " '/q?s=AAPL151120C00096500',\n",
       " '/q/op?s=AAPL&strike=97.00',\n",
       " '/q?s=AAPL151120C00097000',\n",
       " '/q/op?s=AAPL&strike=97.50',\n",
       " '/q?s=AAPL151120C00097500',\n",
       " '/q/op?s=AAPL&strike=98.00',\n",
       " '/q?s=AAPL151120C00098000',\n",
       " '/q/op?s=AAPL&strike=98.50',\n",
       " '/q?s=AAPL151120C00098500',\n",
       " '/q/op?s=AAPL&strike=99.00',\n",
       " '/q?s=AAPL151120C00099000',\n",
       " '/q/op?s=AAPL&strike=99.50',\n",
       " '/q?s=AAPL151120C00099500',\n",
       " '/q/op?s=AAPL&strike=100.00',\n",
       " '/q?s=AAPL151120C00100000',\n",
       " '/q/op?s=AAPL&strike=101.00',\n",
       " '/q?s=AAPL151120C00101000',\n",
       " '/q/op?s=AAPL&strike=102.00',\n",
       " '/q?s=AAPL151120C00102000',\n",
       " '/q/op?s=AAPL&strike=103.00',\n",
       " '/q?s=AAPL151120C00103000',\n",
       " '/q/op?s=AAPL&strike=104.00',\n",
       " '/q?s=AAPL151120C00104000',\n",
       " '/q/op?s=AAPL&strike=105.00',\n",
       " '/q?s=AAPL151120C00105000',\n",
       " '/q/op?s=AAPL&strike=106.00',\n",
       " '/q?s=AAPL151120C00106000',\n",
       " '/q/op?s=AAPL&strike=107.00',\n",
       " '/q?s=AAPL151120C00107000',\n",
       " '/q/op?s=AAPL&strike=108.00',\n",
       " '/q?s=AAPL151120C00108000',\n",
       " '/q/op?s=AAPL&strike=109.00',\n",
       " '/q?s=AAPL151120C00109000',\n",
       " '/q/op?s=AAPL&strike=110.00',\n",
       " '/q?s=AAPL151120C00110000',\n",
       " '/q/op?s=AAPL&strike=111.00',\n",
       " '/q?s=AAPL151120C00111000',\n",
       " '/q/op?s=AAPL&strike=112.00',\n",
       " '/q?s=AAPL151120C00112000',\n",
       " '/q/op?s=AAPL&strike=113.00',\n",
       " '/q?s=AAPL151120C00113000',\n",
       " '/q/op?s=AAPL&strike=114.00',\n",
       " '/q?s=AAPL151120C00114000',\n",
       " '/q/op?s=AAPL&strike=115.00',\n",
       " '/q?s=AAPL151120C00115000',\n",
       " '/q/op?s=AAPL&strike=116.00',\n",
       " '/q?s=AAPL151120C00116000',\n",
       " '/q/op?s=AAPL&strike=117.00',\n",
       " '/q?s=AAPL151120C00117000',\n",
       " '/q/op?s=AAPL&strike=118.00',\n",
       " '/q?s=AAPL151120C00118000',\n",
       " '/q/op?s=AAPL&strike=119.00',\n",
       " '/q?s=AAPL151120C00119000',\n",
       " '/q/op?s=AAPL&strike=120.00',\n",
       " '/q?s=AAPL151120C00120000',\n",
       " '/q/op?s=AAPL&strike=121.00',\n",
       " '/q?s=AAPL151120C00121000',\n",
       " '/q/op?s=AAPL&strike=122.00',\n",
       " '/q?s=AAPL151120C00122000',\n",
       " '/q/op?s=AAPL&strike=123.00',\n",
       " '/q?s=AAPL151120C00123000',\n",
       " '/q/op?s=AAPL&strike=124.00',\n",
       " '/q?s=AAPL151120C00124000',\n",
       " '/q/op?s=AAPL&strike=125.00',\n",
       " '/q?s=AAPL151120C00125000',\n",
       " '/q/op?s=AAPL&strike=126.00',\n",
       " '/q?s=AAPL151120C00126000',\n",
       " '/q/op?s=AAPL&strike=127.00',\n",
       " '/q?s=AAPL151120C00127000',\n",
       " '/q/op?s=AAPL&strike=128.00',\n",
       " '/q?s=AAPL151120C00128000',\n",
       " '/q/op?s=AAPL&strike=129.00',\n",
       " '/q?s=AAPL151120C00129000',\n",
       " '/q/op?s=AAPL&strike=130.00',\n",
       " '/q?s=AAPL151120C00130000',\n",
       " '/q/op?s=AAPL&strike=131.00',\n",
       " '/q?s=AAPL151120C00131000',\n",
       " '/q/op?s=AAPL&strike=132.00',\n",
       " '/q?s=AAPL151120C00132000',\n",
       " '/q/op?s=AAPL&strike=133.00',\n",
       " '/q?s=AAPL151120C00133000',\n",
       " '/q/op?s=AAPL&strike=134.00',\n",
       " '/q?s=AAPL151120C00134000',\n",
       " '/q/op?s=AAPL&strike=135.00',\n",
       " '/q?s=AAPL151120C00135000',\n",
       " '/q/op?s=AAPL&strike=136.00',\n",
       " '/q?s=AAPL151120C00136000',\n",
       " '/q/op?s=AAPL&strike=137.00',\n",
       " '/q?s=AAPL151120C00137000',\n",
       " '/q/op?s=AAPL&strike=138.00',\n",
       " '/q?s=AAPL151120C00138000',\n",
       " '/q/op?s=AAPL&strike=139.00',\n",
       " '/q?s=AAPL151120C00139000',\n",
       " '/q/op?s=AAPL&strike=140.00',\n",
       " '/q?s=AAPL151120C00140000',\n",
       " '/q/op?s=AAPL&strike=141.00',\n",
       " '/q?s=AAPL151120C00141000',\n",
       " '/q/op?s=AAPL&strike=142.00',\n",
       " '/q?s=AAPL151120C00142000',\n",
       " '/q/op?s=AAPL&strike=143.00',\n",
       " '/q?s=AAPL151120C00143000',\n",
       " '/q/op?s=AAPL&strike=144.00',\n",
       " '/q?s=AAPL151120C00144000',\n",
       " '/q/op?s=AAPL&strike=145.00',\n",
       " '/q?s=AAPL151120C00145000',\n",
       " '/q/op?s=AAPL&strike=146.00',\n",
       " '/q?s=AAPL151120C00146000',\n",
       " '/q/op?s=AAPL&strike=147.00',\n",
       " '/q?s=AAPL151120C00147000',\n",
       " '/q/op?s=AAPL&strike=148.00',\n",
       " '/q?s=AAPL151120C00148000',\n",
       " '/q/op?s=AAPL&strike=150.00',\n",
       " '/q?s=AAPL151120C00150000',\n",
       " '/q/op?s=AAPL&strike=155.00',\n",
       " '/q?s=AAPL151120C00155000',\n",
       " '/q/op?s=AAPL&strike=160.00',\n",
       " '/q?s=AAPL151120C00160000',\n",
       " '/q/op?s=AAPL&strike=165.00',\n",
       " '/q?s=AAPL151120C00165000',\n",
       " '/q/op?s=AAPL&strike=170.00',\n",
       " '/q?s=AAPL151120C00170000',\n",
       " '/q/op?s=AAPL&strike=175.00',\n",
       " '/q?s=AAPL151120C00175000',\n",
       " None,\n",
       " None,\n",
       " '/q/op?s=AAPL&strike=60.00',\n",
       " '/q?s=AAPL151120P00060000',\n",
       " '/q/op?s=AAPL&strike=65.00',\n",
       " '/q?s=AAPL151120P00065000',\n",
       " '/q/op?s=AAPL&strike=70.00',\n",
       " '/q?s=AAPL151120P00070000',\n",
       " '/q/op?s=AAPL&strike=75.00',\n",
       " '/q?s=AAPL151120P00075000',\n",
       " '/q/op?s=AAPL&strike=76.00',\n",
       " '/q?s=AAPL151120P00076000',\n",
       " '/q/op?s=AAPL&strike=77.00',\n",
       " '/q?s=AAPL151120P00077000',\n",
       " '/q/op?s=AAPL&strike=78.00',\n",
       " '/q?s=AAPL151120P00078000',\n",
       " '/q/op?s=AAPL&strike=79.00',\n",
       " '/q?s=AAPL151120P00079000',\n",
       " '/q/op?s=AAPL&strike=80.00',\n",
       " '/q?s=AAPL151120P00080000',\n",
       " '/q/op?s=AAPL&strike=81.00',\n",
       " '/q?s=AAPL151120P00081000',\n",
       " '/q/op?s=AAPL&strike=82.00',\n",
       " '/q?s=AAPL151120P00082000',\n",
       " '/q/op?s=AAPL&strike=83.00',\n",
       " '/q?s=AAPL151120P00083000',\n",
       " '/q/op?s=AAPL&strike=84.00',\n",
       " '/q?s=AAPL151120P00084000',\n",
       " '/q/op?s=AAPL&strike=85.00',\n",
       " '/q?s=AAPL151120P00085000',\n",
       " '/q/op?s=AAPL&strike=86.00',\n",
       " '/q?s=AAPL151120P00086000',\n",
       " '/q/op?s=AAPL&strike=87.00',\n",
       " '/q?s=AAPL151120P00087000',\n",
       " '/q/op?s=AAPL&strike=87.50',\n",
       " '/q?s=AAPL151120P00087500',\n",
       " '/q/op?s=AAPL&strike=88.00',\n",
       " '/q?s=AAPL151120P00088000',\n",
       " '/q/op?s=AAPL&strike=89.00',\n",
       " '/q?s=AAPL151120P00089000',\n",
       " '/q/op?s=AAPL&strike=90.00',\n",
       " '/q?s=AAPL151120P00090000',\n",
       " '/q/op?s=AAPL&strike=91.00',\n",
       " '/q?s=AAPL151120P00091000',\n",
       " '/q/op?s=AAPL&strike=92.00',\n",
       " '/q?s=AAPL151120P00092000',\n",
       " '/q/op?s=AAPL&strike=92.50',\n",
       " '/q?s=AAPL151120P00092500',\n",
       " '/q/op?s=AAPL&strike=93.00',\n",
       " '/q?s=AAPL151120P00093000',\n",
       " '/q/op?s=AAPL&strike=94.00',\n",
       " '/q?s=AAPL151120P00094000',\n",
       " '/q/op?s=AAPL&strike=95.00',\n",
       " '/q?s=AAPL151120P00095000',\n",
       " '/q/op?s=AAPL&strike=96.00',\n",
       " '/q?s=AAPL151120P00096000',\n",
       " '/q/op?s=AAPL&strike=96.50',\n",
       " '/q?s=AAPL151120P00096500',\n",
       " '/q/op?s=AAPL&strike=97.00',\n",
       " '/q?s=AAPL151120P00097000',\n",
       " '/q/op?s=AAPL&strike=97.50',\n",
       " '/q?s=AAPL151120P00097500',\n",
       " '/q/op?s=AAPL&strike=98.00',\n",
       " '/q?s=AAPL151120P00098000',\n",
       " '/q/op?s=AAPL&strike=98.50',\n",
       " '/q?s=AAPL151120P00098500',\n",
       " '/q/op?s=AAPL&strike=99.00',\n",
       " '/q?s=AAPL151120P00099000',\n",
       " '/q/op?s=AAPL&strike=99.50',\n",
       " '/q?s=AAPL151120P00099500',\n",
       " '/q/op?s=AAPL&strike=100.00',\n",
       " '/q?s=AAPL151120P00100000',\n",
       " '/q/op?s=AAPL&strike=101.00',\n",
       " '/q?s=AAPL151120P00101000',\n",
       " '/q/op?s=AAPL&strike=102.00',\n",
       " '/q?s=AAPL151120P00102000',\n",
       " '/q/op?s=AAPL&strike=103.00',\n",
       " '/q?s=AAPL151120P00103000',\n",
       " '/q/op?s=AAPL&strike=104.00',\n",
       " '/q?s=AAPL151120P00104000',\n",
       " '/q/op?s=AAPL&strike=105.00',\n",
       " '/q?s=AAPL151120P00105000',\n",
       " '/q/op?s=AAPL&strike=106.00',\n",
       " '/q?s=AAPL151120P00106000',\n",
       " '/q/op?s=AAPL&strike=107.00',\n",
       " '/q?s=AAPL151120P00107000',\n",
       " '/q/op?s=AAPL&strike=108.00',\n",
       " '/q?s=AAPL151120P00108000',\n",
       " '/q/op?s=AAPL&strike=109.00',\n",
       " '/q?s=AAPL151120P00109000',\n",
       " '/q/op?s=AAPL&strike=110.00',\n",
       " '/q?s=AAPL151120P00110000',\n",
       " '/q/op?s=AAPL&strike=111.00',\n",
       " '/q?s=AAPL151120P00111000',\n",
       " '/q/op?s=AAPL&strike=112.00',\n",
       " '/q?s=AAPL151120P00112000',\n",
       " '/q/op?s=AAPL&strike=113.00',\n",
       " '/q?s=AAPL151120P00113000',\n",
       " '/q/op?s=AAPL&strike=114.00',\n",
       " '/q?s=AAPL151120P00114000',\n",
       " '/q/op?s=AAPL&strike=115.00',\n",
       " '/q?s=AAPL151120P00115000',\n",
       " '/q/op?s=AAPL&strike=116.00',\n",
       " '/q?s=AAPL151120P00116000',\n",
       " '/q/op?s=AAPL&strike=117.00',\n",
       " '/q?s=AAPL151120P00117000',\n",
       " '/q/op?s=AAPL&strike=118.00',\n",
       " '/q?s=AAPL151120P00118000',\n",
       " '/q/op?s=AAPL&strike=119.00',\n",
       " '/q?s=AAPL151120P00119000',\n",
       " '/q/op?s=AAPL&strike=120.00',\n",
       " '/q?s=AAPL151120P00120000',\n",
       " '/q/op?s=AAPL&strike=121.00',\n",
       " '/q?s=AAPL151120P00121000',\n",
       " '/q/op?s=AAPL&strike=122.00',\n",
       " '/q?s=AAPL151120P00122000',\n",
       " '/q/op?s=AAPL&strike=123.00',\n",
       " '/q?s=AAPL151120P00123000',\n",
       " '/q/op?s=AAPL&strike=124.00',\n",
       " '/q?s=AAPL151120P00124000',\n",
       " '/q/op?s=AAPL&strike=125.00',\n",
       " '/q?s=AAPL151120P00125000',\n",
       " '/q/op?s=AAPL&strike=126.00',\n",
       " '/q?s=AAPL151120P00126000',\n",
       " '/q/op?s=AAPL&strike=127.00',\n",
       " '/q?s=AAPL151120P00127000',\n",
       " '/q/op?s=AAPL&strike=128.00',\n",
       " '/q?s=AAPL151120P00128000',\n",
       " '/q/op?s=AAPL&strike=129.00',\n",
       " '/q?s=AAPL151120P00129000',\n",
       " '/q/op?s=AAPL&strike=130.00',\n",
       " '/q?s=AAPL151120P00130000',\n",
       " '/q/op?s=AAPL&strike=131.00',\n",
       " '/q?s=AAPL151120P00131000',\n",
       " '/q/op?s=AAPL&strike=132.00',\n",
       " '/q?s=AAPL151120P00132000',\n",
       " '/q/op?s=AAPL&strike=133.00',\n",
       " '/q?s=AAPL151120P00133000',\n",
       " '/q/op?s=AAPL&strike=134.00',\n",
       " '/q?s=AAPL151120P00134000',\n",
       " '/q/op?s=AAPL&strike=135.00',\n",
       " '/q?s=AAPL151120P00135000',\n",
       " '/q/op?s=AAPL&strike=136.00',\n",
       " '/q?s=AAPL151120P00136000',\n",
       " '/q/op?s=AAPL&strike=137.00',\n",
       " '/q?s=AAPL151120P00137000',\n",
       " '/q/op?s=AAPL&strike=138.00',\n",
       " '/q?s=AAPL151120P00138000',\n",
       " '/q/op?s=AAPL&strike=139.00',\n",
       " '/q?s=AAPL151120P00139000',\n",
       " '/q/op?s=AAPL&strike=140.00',\n",
       " '/q?s=AAPL151120P00140000',\n",
       " '/q/op?s=AAPL&strike=144.00',\n",
       " '/q?s=AAPL151120P00144000',\n",
       " '/q/op?s=AAPL&strike=145.00',\n",
       " '/q?s=AAPL151120P00145000',\n",
       " '/q/op?s=AAPL&strike=150.00',\n",
       " '/q?s=AAPL151120P00150000',\n",
       " '/q/op?s=AAPL&strike=155.00',\n",
       " '/q?s=AAPL151120P00155000',\n",
       " '/q/op?s=AAPL&strike=160.00',\n",
       " '/q?s=AAPL151120P00160000',\n",
       " '/q/op?s=AAPL&strike=165.00',\n",
       " '/q?s=AAPL151120P00165000',\n",
       " '/q/op?s=AAPL&strike=170.00',\n",
       " '/q?s=AAPL151120P00170000',\n",
       " '/q/op?s=AAPL&strike=175.00',\n",
       " '/q?s=AAPL151120P00175000']"
      ]
     },
     "execution_count": 64,
     "metadata": {},
     "output_type": "execute_result"
    }
   ],
   "source": [
    "urls"
   ]
  },
  {
   "cell_type": "code",
   "execution_count": 71,
   "metadata": {
    "collapsed": false
   },
   "outputs": [],
   "source": [
    "tables=doc.findall('.//table')\n",
    "calls=tables[0]"
   ]
  },
  {
   "cell_type": "code",
   "execution_count": 73,
   "metadata": {
    "collapsed": true
   },
   "outputs": [],
   "source": [
    "rows=calls.findall('.//tr')"
   ]
  },
  {
   "cell_type": "code",
   "execution_count": 76,
   "metadata": {
    "collapsed": false
   },
   "outputs": [
    {
     "data": {
      "text/plain": [
       "[<Element tr at 0x7fd00b66ce68>]"
      ]
     },
     "execution_count": 76,
     "metadata": {},
     "output_type": "execute_result"
    }
   ],
   "source": [
    "rows"
   ]
  },
  {
   "cell_type": "code",
   "execution_count": 79,
   "metadata": {
    "collapsed": false
   },
   "outputs": [
    {
     "ename": "IndexError",
     "evalue": "list index out of range",
     "output_type": "error",
     "traceback": [
      "\u001b[1;31m---------------------------------------------------------------------------\u001b[0m",
      "\u001b[1;31mIndexError\u001b[0m                                Traceback (most recent call last)",
      "\u001b[1;32m<ipython-input-79-a84d7a10c1ee>\u001b[0m in \u001b[0;36m<module>\u001b[1;34m()\u001b[0m\n\u001b[0;32m      2\u001b[0m     \u001b[0melts\u001b[0m\u001b[1;33m=\u001b[0m\u001b[0mrow\u001b[0m\u001b[1;33m.\u001b[0m\u001b[0mfindall\u001b[0m\u001b[1;33m(\u001b[0m\u001b[1;34m'.//%s'\u001b[0m\u001b[1;33m%\u001b[0m\u001b[0mkind\u001b[0m\u001b[1;33m)\u001b[0m\u001b[1;33m\u001b[0m\u001b[0m\n\u001b[0;32m      3\u001b[0m     \u001b[1;32mreturn\u001b[0m \u001b[1;33m[\u001b[0m\u001b[0mval\u001b[0m\u001b[1;33m.\u001b[0m\u001b[0mtext_content\u001b[0m\u001b[1;33m(\u001b[0m\u001b[1;33m)\u001b[0m \u001b[1;32mfor\u001b[0m \u001b[0mval\u001b[0m \u001b[1;32min\u001b[0m \u001b[0melts\u001b[0m\u001b[1;33m]\u001b[0m\u001b[1;33m\u001b[0m\u001b[0m\n\u001b[1;32m----> 4\u001b[1;33m \u001b[0m_unpack\u001b[0m\u001b[1;33m(\u001b[0m\u001b[0mrows\u001b[0m\u001b[1;33m[\u001b[0m\u001b[1;36m1\u001b[0m\u001b[1;33m]\u001b[0m\u001b[1;33m,\u001b[0m\u001b[0mkind\u001b[0m\u001b[1;33m=\u001b[0m\u001b[1;34m'th'\u001b[0m\u001b[1;33m)\u001b[0m\u001b[1;33m\u001b[0m\u001b[0m\n\u001b[0m",
      "\u001b[1;31mIndexError\u001b[0m: list index out of range"
     ]
    }
   ],
   "source": [
    "def _unpack(row,kind='td'):\n",
    "    elts=row.findall('.//%s'%kind)\n",
    "    return [val.text_content() for val in elts]\n",
    "_unpack(rows[1],kind='th')"
   ]
  },
  {
   "cell_type": "markdown",
   "metadata": {},
   "source": [
    "二进制数据格式\n",
    "--------------"
   ]
  },
  {
   "cell_type": "code",
   "execution_count": 82,
   "metadata": {
    "collapsed": false
   },
   "outputs": [
    {
     "data": {
      "text/html": [
       "<div>\n",
       "<table border=\"1\" class=\"dataframe\">\n",
       "  <thead>\n",
       "    <tr style=\"text-align: right;\">\n",
       "      <th></th>\n",
       "      <th>a</th>\n",
       "      <th>b</th>\n",
       "      <th>c</th>\n",
       "      <th>d</th>\n",
       "      <th>message</th>\n",
       "    </tr>\n",
       "  </thead>\n",
       "  <tbody>\n",
       "    <tr>\n",
       "      <th>0</th>\n",
       "      <td>1</td>\n",
       "      <td>2</td>\n",
       "      <td>3</td>\n",
       "      <td>4</td>\n",
       "      <td>hello</td>\n",
       "    </tr>\n",
       "    <tr>\n",
       "      <th>1</th>\n",
       "      <td>5</td>\n",
       "      <td>6</td>\n",
       "      <td>7</td>\n",
       "      <td>8</td>\n",
       "      <td>world</td>\n",
       "    </tr>\n",
       "    <tr>\n",
       "      <th>2</th>\n",
       "      <td>9</td>\n",
       "      <td>10</td>\n",
       "      <td>11</td>\n",
       "      <td>12</td>\n",
       "      <td>foo</td>\n",
       "    </tr>\n",
       "  </tbody>\n",
       "</table>\n",
       "</div>"
      ],
      "text/plain": [
       "   a   b   c   d message\n",
       "0  1   2   3   4   hello\n",
       "1  5   6   7   8   world\n",
       "2  9  10  11  12     foo"
      ]
     },
     "execution_count": 82,
     "metadata": {},
     "output_type": "execute_result"
    }
   ],
   "source": [
    "frame=pd.read_csv('ch06/ex1.csv')\n",
    "frame"
   ]
  },
  {
   "cell_type": "markdown",
   "metadata": {},
   "source": []
  },
  {
   "cell_type": "code",
   "execution_count": null,
   "metadata": {
    "collapsed": true
   },
   "outputs": [],
   "source": []
  },
  {
   "cell_type": "code",
   "execution_count": null,
   "metadata": {
    "collapsed": true
   },
   "outputs": [],
   "source": []
  }
 ],
 "metadata": {
  "kernelspec": {
   "display_name": "Python 2",
   "language": "python",
   "name": "python2"
  },
  "language_info": {
   "codemirror_mode": {
    "name": "ipython",
    "version": 2
   },
   "file_extension": ".py",
   "mimetype": "text/x-python",
   "name": "python",
   "nbconvert_exporter": "python",
   "pygments_lexer": "ipython2",
   "version": "2.7.6"
  }
 },
 "nbformat": 4,
 "nbformat_minor": 0
}
